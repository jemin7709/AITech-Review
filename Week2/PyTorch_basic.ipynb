{
 "cells": [
  {
   "cell_type": "code",
   "execution_count": 1,
   "metadata": {},
   "outputs": [],
   "source": [
    "import torch"
   ]
  },
  {
   "cell_type": "code",
   "execution_count": 2,
   "metadata": {},
   "outputs": [
    {
     "name": "stdout",
     "output_type": "stream",
     "text": [
      "dim1: tensor([[4., 2., 6.]])\n",
      "dim2: tensor([[3., 5.]])\n"
     ]
    }
   ],
   "source": [
    "\"\"\"\n",
    "gather 사용법\n",
    "내가 원하는 축을 제외한 곳은 기존 텐서와 모양을 같게 맞춘다\n",
    "내가 원하는 축의 index는 축을 기준으로 한 데이터 수와 같아야 한다\n",
    "gather 후 원하는 축을 squeeze로 날리면 값을 얻어올 수 있다\n",
    "dim값은 내가 없앨 축이라고 생각하면 이해가 쉽다\n",
    "\"\"\"\n",
    "tensor = torch.Tensor([[[1, 2, 3],\n",
    "                        [4, 5, 6]]])\n",
    "C, H, W = tensor.shape\n",
    "\n",
    "dim1 = tensor.gather(1, torch.tensor([1, 0, 1]).view(C, -1, W)).squeeze(1)\n",
    "print(f\"dim1: {dim1}\")\n",
    "dim2 = tensor.gather(2, torch.tensor([2, 1]).view(C, H, -1)).squeeze(2)\n",
    "print(f\"dim2: {dim2}\")"
   ]
  },
  {
   "cell_type": "code",
   "execution_count": 3,
   "metadata": {},
   "outputs": [
    {
     "name": "stdout",
     "output_type": "stream",
     "text": [
      "target\n",
      "tensor([[[0., 0., 0.],\n",
      "         [0., 0., 0.]]])\n",
      "index\n",
      "tensor([[[1, 0, 1],\n",
      "         [0, 1, 0]]])\n",
      "dim1\n",
      "tensor([[[4., 2., 6.],\n",
      "         [1., 5., 3.]]])\n"
     ]
    }
   ],
   "source": [
    "\"\"\"\n",
    "scatter\n",
    "gather과 비슷하게 동작하지만 값을 가져오는게 아니라 target에 할당한다\n",
    "\"\"\"\n",
    "tensor = torch.Tensor([[[1, 2, 3],\n",
    "                        [4, 5, 6]]])\n",
    "C, H, W = tensor.shape\n",
    "\n",
    "target = torch.zeros((C, H, W))\n",
    "index = torch.tensor([1, 0, 1, 0, 1, 0]).view(C, -1, W)\n",
    "\n",
    "print(f\"target\\n{target}\")\n",
    "print(f\"index\\n{index}\")\n",
    "print(f\"dim1\\n{target.scatter(1, index, tensor)}\")"
   ]
  },
  {
   "cell_type": "code",
   "execution_count": 4,
   "metadata": {},
   "outputs": [
    {
     "name": "stdout",
     "output_type": "stream",
     "text": [
      "원본:\n",
      "tensor([[0, 1],\n",
      "        [2, 3],\n",
      "        [4, 5],\n",
      "        [6, 7],\n",
      "        [8, 9]])\n",
      "5등분\n",
      "(tensor([[0, 1]]), tensor([[2, 3]]), tensor([[4, 5]]), tensor([[6, 7]]), tensor([[8, 9]]))\n",
      "세로로 2등분\n",
      "(tensor([[0],\n",
      "        [2],\n",
      "        [4],\n",
      "        [6],\n",
      "        [8]]), tensor([[1],\n",
      "        [3],\n",
      "        [5],\n",
      "        [7],\n",
      "        [9]]))\n"
     ]
    }
   ],
   "source": [
    "\"\"\"\n",
    "chunk\n",
    "데이터를 n등분한다\n",
    "\"\"\"\n",
    "tensor = torch.arange(10).view(5, -1)\n",
    "print(f\"원본:\\n{tensor}\")\n",
    "print(f\"5등분\\n{tensor.chunk(5)}\")\n",
    "print(f\"세로로 2등분\\n{tensor.chunk(2, 1)}\")"
   ]
  },
  {
   "cell_type": "code",
   "execution_count": 5,
   "metadata": {},
   "outputs": [
    {
     "name": "stdout",
     "output_type": "stream",
     "text": [
      "원본\n",
      "tensor([ 1.4982, -0.5735, -0.8640, -0.2532,  0.9750])\n",
      "clamp\n",
      "tensor([ 0.3000, -0.3000, -0.3000, -0.2532,  0.3000])\n"
     ]
    }
   ],
   "source": [
    "\"\"\"\n",
    "clamp\n",
    "tensor의 min과 max를 제한한다(비슷한 함수 많음)\n",
    "\"\"\"\n",
    "tensor = torch.randn(5)\n",
    "print(f\"원본\\n{tensor}\")\n",
    "print(f\"clamp\\n{tensor.clamp(min=-0.3, max=0.3)}\")"
   ]
  },
  {
   "cell_type": "code",
   "execution_count": 6,
   "metadata": {},
   "outputs": [
    {
     "name": "stdout",
     "output_type": "stream",
     "text": [
      "텐서\n",
      "tensor([[8, 2, 9, 0, 6],\n",
      "        [4, 3, 7, 1, 5]])\n",
      "argmax: tensor([0, 1, 0, 1, 0])\n",
      "argmax 텐서\n",
      "tensor([8, 3, 9, 1, 6])\n"
     ]
    }
   ],
   "source": [
    "\"\"\"\n",
    "argmax\n",
    "제일 큰 값의 index를 반환\n",
    "dim 값은 없어질 축이라고 생각하면 됨(0이면 행이 다 합쳐지면서 최대 index 찾는 식)\n",
    "\"\"\"\n",
    "tensor = torch.randperm(10).view(2, -1) # 10보다 작은 정수 순열\n",
    "print(f\"텐서\\n{tensor}\")\n",
    "print(f\"argmax: {tensor.argmax(0)}\")\n",
    "H, W = tensor.shape\n",
    "print(f\"argmax 텐서\\n{tensor.gather(0, tensor.argmax(0).view(-1, W)).squeeze(0)}\")"
   ]
  },
  {
   "cell_type": "code",
   "execution_count": 8,
   "metadata": {},
   "outputs": [
    {
     "name": "stdout",
     "output_type": "stream",
     "text": [
      "tensor([[1, 4],\n",
      "        [2, 5],\n",
      "        [3, 6]])\n"
     ]
    }
   ],
   "source": [
    "\"\"\"\n",
    "einsum\n",
    "사용법을 좀 더 공부해보자\n",
    "\"\"\"\n",
    "tensor = torch.tensor([[1,2,3], \n",
    "                       [4,5,6]])\n",
    "print(torch.einsum(\"ij->ji\", tensor))"
   ]
  }
 ],
 "metadata": {
  "kernelspec": {
   "display_name": "torch",
   "language": "python",
   "name": "python3"
  },
  "language_info": {
   "codemirror_mode": {
    "name": "ipython",
    "version": 3
   },
   "file_extension": ".py",
   "mimetype": "text/x-python",
   "name": "python",
   "nbconvert_exporter": "python",
   "pygments_lexer": "ipython3",
   "version": "3.10.9"
  },
  "orig_nbformat": 4
 },
 "nbformat": 4,
 "nbformat_minor": 2
}
