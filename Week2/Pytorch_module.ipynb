{
 "cells": [
  {
   "cell_type": "code",
   "execution_count": 1,
   "metadata": {},
   "outputs": [],
   "source": [
    "import torch\n",
    "import torch.nn as nn"
   ]
  },
  {
   "cell_type": "code",
   "execution_count": 2,
   "metadata": {},
   "outputs": [
    {
     "name": "stdout",
     "output_type": "stream",
     "text": [
      "before linear: torch.Size([2, 2])\n",
      "after linear: torch.Size([2, 5])\n"
     ]
    }
   ],
   "source": [
    "\"\"\"\n",
    "선형회귀(fully connected)\n",
    "y = Wx + b\n",
    "\"\"\"\n",
    "tensor = torch.arange(4, dtype=torch.float32).view(2, 2)\n",
    "linear = nn.Linear(2, 5)\n",
    "print(f\"before linear: {tensor.shape}\")\n",
    "print(f\"after linear: {linear(tensor).shape}\")"
   ]
  },
  {
   "cell_type": "code",
   "execution_count": 3,
   "metadata": {},
   "outputs": [
    {
     "name": "stdout",
     "output_type": "stream",
     "text": [
      "True\n"
     ]
    }
   ],
   "source": [
    "\"\"\"\n",
    "단위행렬\n",
    "\"\"\"\n",
    "tensor = torch.arange(4, dtype=torch.float32).view(2, 2)\n",
    "identity = nn.Identity()\n",
    "print(torch.equal(tensor, identity(tensor)))"
   ]
  },
  {
   "cell_type": "code",
   "execution_count": 4,
   "metadata": {},
   "outputs": [
    {
     "name": "stdout",
     "output_type": "stream",
     "text": [
      "tensor([[0.7212, 0.1551],\n",
      "        [0.7754, 0.2750]], grad_fn=<AddmmBackward0>)\n",
      "Model(\n",
      "  (pytorch_module_list): ModuleList(\n",
      "    (0): Linear(in_features=2, out_features=2, bias=True)\n",
      "  )\n",
      "  (pytorch_module_dict): ModuleDict(\n",
      "    (linear): Linear(in_features=2, out_features=2, bias=True)\n",
      "  )\n",
      "  (pytorch_module_sequential): Sequential(\n",
      "    (0): Linear(in_features=2, out_features=2, bias=True)\n",
      "  )\n",
      ")\n"
     ]
    }
   ],
   "source": [
    "\"\"\"\n",
    "모듈 컨테이너\n",
    "파이썬 기본 컨테이너를 사용해도 동작은 하지만 모듈로 인식하지 않아 모듈의 메소드들을 사용할 수 없다\n",
    "\"\"\"\n",
    "class Model(nn.Module):\n",
    "    def __init__(self, *args, **kwargs) -> None:\n",
    "        super().__init__(*args, **kwargs)\n",
    "        self.python_list = [\n",
    "            nn.Linear(2, 2),\n",
    "        ]\n",
    "        self.pytorch_module_list = nn.ModuleList([\n",
    "            nn.Linear(2, 2)\n",
    "        ])\n",
    "        self.pytorch_module_dict = nn.ModuleDict({\n",
    "            \"linear\": nn.Linear(2, 2)\n",
    "        })\n",
    "        self.pytorch_module_sequential = nn.Sequential(\n",
    "            nn.Linear(2, 2)\n",
    "        )\n",
    "    \n",
    "    def forward(self, x):\n",
    "        x = self.python_list[0](x)\n",
    "        x = self.pytorch_module_list[0](x)\n",
    "        x = self.pytorch_module_dict[\"linear\"](x)\n",
    "        x = self.pytorch_module_sequential(x)\n",
    "        return x\n",
    "\n",
    "model = Model()\n",
    "print(model(torch.arange(4, dtype=torch.float).view(2, 2)))\n",
    "print(model)"
   ]
  },
  {
   "cell_type": "code",
   "execution_count": 5,
   "metadata": {},
   "outputs": [
    {
     "data": {
      "text/plain": [
       "'\\nTensor: \\n    gradient 계산 X(default)\\n    값 업데이트 X\\n    모델 저장시 값 저장 X\\n\\nParameter: \\n    gradient 계산 O\\n    값 업데이트 O\\n    모델 저장시 값 저장 O\\n\\nBuffer\\n    gradient 계산 X\\n    값 업데이트 X\\n    모델 저장시 값 저장 O\\n'"
      ]
     },
     "execution_count": 5,
     "metadata": {},
     "output_type": "execute_result"
    }
   ],
   "source": [
    "\"\"\"\n",
    "Tensor: \n",
    "    gradient 계산 X(default)\n",
    "    값 업데이트 X\n",
    "    모델 저장시 값 저장 X\n",
    "\n",
    "Parameter: \n",
    "    gradient 계산 O\n",
    "    값 업데이트 O\n",
    "    모델 저장시 값 저장 O\n",
    "\n",
    "Buffer\n",
    "    gradient 계산 X\n",
    "    값 업데이트 X\n",
    "    모델 저장시 값 저장 O\n",
    "\"\"\""
   ]
  },
  {
   "cell_type": "code",
   "execution_count": 9,
   "metadata": {},
   "outputs": [],
   "source": [
    "class SmallModel(nn.Module):\n",
    "    def __init__(self, *args, **kwargs) -> None:\n",
    "        super().__init__(*args, **kwargs)\n",
    "\n",
    "    def forward(self, x):\n",
    "        return x + 1\n",
    "\n",
    "class MiddleModel(nn.Module):\n",
    "    def __init__(self, *args, **kwargs) -> None:\n",
    "        super().__init__(*args, **kwargs)\n",
    "        self.small1 = SmallModel()\n",
    "        self.small2 = SmallModel()\n",
    "    \n",
    "    def forward(self, x):\n",
    "        x = self.small1(x)\n",
    "        x = self.small2(x)\n",
    "        return x\n",
    "\n",
    "class LargeModel(nn.Module):\n",
    "    def __init__(self, *args, **kwargs) -> None:\n",
    "        super().__init__(*args, **kwargs)\n",
    "        self.middle1 = MiddleModel()\n",
    "        self.middle2 = MiddleModel()\n",
    "    \n",
    "    def forward(self, x):\n",
    "        x = self.middle1(x)\n",
    "        x = self.middle2(x)\n",
    "        return x\n",
    "\n",
    "x = torch.tensor([0])\n",
    "model = LargeModel()"
   ]
  },
  {
   "cell_type": "code",
   "execution_count": 10,
   "metadata": {},
   "outputs": [
    {
     "name": "stdout",
     "output_type": "stream",
     "text": [
      "name: middle1\n",
      "module: \n",
      "MiddleModel(\n",
      "  (small1): SmallModel()\n",
      "  (small2): SmallModel()\n",
      ")\n",
      "name: middle2\n",
      "module: \n",
      "MiddleModel(\n",
      "  (small1): SmallModel()\n",
      "  (small2): SmallModel()\n",
      ")\n"
     ]
    }
   ],
   "source": [
    "for name, module in model.named_children():\n",
    "    print(f\"name: {name}\\nmodule: \\n{module}\")"
   ]
  },
  {
   "cell_type": "code",
   "execution_count": null,
   "metadata": {},
   "outputs": [],
   "source": [
    "\"\"\"\n",
    "hook: 특정 코드를 실행 중간에 끼워넣는 방법\n",
    "\n",
    "forward hook(모듈에만 사용 가능)\n",
    "    forward_pre_hook: 순전파 전 실행\n",
    "    forward_hook: 순전파때 실행\n",
    "\n",
    "backward hook(모듈, 텐서에 사용 가능)\n",
    "    full_backward_hook: 역전파때 실행(모듈)\n",
    "    hook: 역전파때 실행(텐서)\n",
    "\"\"\""
   ]
  },
  {
   "cell_type": "code",
   "execution_count": 13,
   "metadata": {},
   "outputs": [
    {
     "name": "stdout",
     "output_type": "stream",
     "text": [
      "weight init: Parameter containing:\n",
      "tensor([[1., 1.],\n",
      "        [1., 1.]], requires_grad=True)\n",
      "weight init: Parameter containing:\n",
      "tensor([[1., 1.],\n",
      "        [1., 1.]], requires_grad=True)\n"
     ]
    },
    {
     "data": {
      "text/plain": [
       "Sequential(\n",
       "  (0): Linear(in_features=2, out_features=2, bias=True)\n",
       "  (1): Linear(in_features=2, out_features=2, bias=True)\n",
       ")"
      ]
     },
     "execution_count": 13,
     "metadata": {},
     "output_type": "execute_result"
    }
   ],
   "source": [
    "\"\"\"\n",
    "apply: 모듈 전체에 적용되는 함수\n",
    "적용되는 순서는 postorder traversal 순서(pytorch는 모델이 트리구조)\n",
    "\n",
    "ex) .cuda()를 사용하면 모듈 전체에 .cuda()가 적용됨 \n",
    "\"\"\"\n",
    "\n",
    "@torch.no_grad() # 데코레이터\n",
    "def init_weight(module):\n",
    "    if type(module) == nn.Linear:\n",
    "        module.weight.fill_(1.0)\n",
    "        print(f\"weight init: {module.weight}\")\n",
    "\n",
    "model = nn.Sequential(nn.Linear(2, 2), \n",
    "                      nn.Linear(2, 2))\n",
    "model.apply(init_weight)"
   ]
  },
  {
   "cell_type": "code",
   "execution_count": 16,
   "metadata": {},
   "outputs": [
    {
     "name": "stdout",
     "output_type": "stream",
     "text": [
      "Sequential(\n",
      "  module name: Sequential\n",
      "  (0): Linear(module name: Linear)\n",
      "  (1): Linear(module name: Linear)\n",
      ")\n"
     ]
    }
   ],
   "source": [
    "\"\"\"\n",
    "apply로 extra_repr를 수정해 원하는 출력이 나오도록 변경하기\n",
    "\"\"\"\n",
    "from functools import partial\n",
    "\n",
    "def new_repr(self):\n",
    "    return f\"module name: {self.__class__.__name__}\"\n",
    "\n",
    "def add_repr(module):\n",
    "    module.extra_repr = partial(new_repr, module)\n",
    "\n",
    "repr_model = model.apply(add_repr)\n",
    "print(repr(repr_model))"
   ]
  },
  {
   "cell_type": "code",
   "execution_count": null,
   "metadata": {},
   "outputs": [],
   "source": []
  }
 ],
 "metadata": {
  "kernelspec": {
   "display_name": "torch",
   "language": "python",
   "name": "python3"
  },
  "language_info": {
   "codemirror_mode": {
    "name": "ipython",
    "version": 3
   },
   "file_extension": ".py",
   "mimetype": "text/x-python",
   "name": "python",
   "nbconvert_exporter": "python",
   "pygments_lexer": "ipython3",
   "version": "3.10.9"
  },
  "orig_nbformat": 4
 },
 "nbformat": 4,
 "nbformat_minor": 2
}
