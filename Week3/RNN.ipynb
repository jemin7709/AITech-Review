{
 "cells": [
  {
   "cell_type": "code",
   "execution_count": 1,
   "metadata": {},
   "outputs": [],
   "source": [
    "import torch\n",
    "import numpy as np\n",
    "import torch.nn as nn\n",
    "import torch.optim as optim\n",
    "import albumentations\n",
    "import matplotlib.pyplot as plt\n",
    "from matplotlib.colors import ListedColormap\n",
    "from albumentations.pytorch import ToTensorV2\n",
    "from torch.utils.data import DataLoader, Dataset\n",
    "from torchvision import datasets"
   ]
  },
  {
   "cell_type": "code",
   "execution_count": 2,
   "metadata": {},
   "outputs": [],
   "source": [
    "config = {\n",
    "    \"epoch\": 30,\n",
    "    \"batch_size\": 256,\n",
    "    \"lr\": 1e-3,\n",
    "    \"device\": \"cuda\" if torch.cuda.is_available() else \"mps\" if torch.backends.mps.is_available() else \"cpu\"\n",
    "}"
   ]
  },
  {
   "cell_type": "code",
   "execution_count": 3,
   "metadata": {},
   "outputs": [],
   "source": [
    "class MNIST(datasets.MNIST):\n",
    "    def __init__(self, root: str, train: bool = True, transform = None, download: bool = False) -> None:\n",
    "        super().__init__(root=root, train=train, transform=transform, download=download)\n",
    "    \n",
    "    def __getitem__(self, index: int):\n",
    "        image, label = self.data[index], self.targets[index]\n",
    "        \n",
    "        if self.transform is not None:\n",
    "            transform = self.transform(image=image.unsqueeze(2).numpy())\n",
    "            image = transform[\"image\"]\n",
    "            \n",
    "        return image, label"
   ]
  },
  {
   "cell_type": "code",
   "execution_count": 4,
   "metadata": {},
   "outputs": [],
   "source": [
    "transform = albumentations.Compose([\n",
    "    albumentations.Normalize(mean=0, std=1),\n",
    "    albumentations.Blur(blur_limit=4),\n",
    "    ToTensorV2()\n",
    "])"
   ]
  },
  {
   "cell_type": "code",
   "execution_count": 5,
   "metadata": {},
   "outputs": [],
   "source": [
    "mnist_train = MNIST(root='../../data/', train=True, transform=transform, download=True)\n",
    "mnist_valid = MNIST(root='../../data/', train=False, transform=transform, download=True)\n",
    "train_data = DataLoader(mnist_train, config[\"batch_size\"], shuffle=True)\n",
    "valid_data = DataLoader(mnist_valid, config[\"batch_size\"])"
   ]
  },
  {
   "cell_type": "code",
   "execution_count": 6,
   "metadata": {},
   "outputs": [],
   "source": [
    "class Model(nn.Module):\n",
    "    def __init__(self, input_dim, hidden_dim, output_dim, num_layer) -> None:\n",
    "        super().__init__()\n",
    "        self.input_dim = input_dim\n",
    "        self.hidden_dim = hidden_dim\n",
    "        self.output_dim = output_dim\n",
    "        self.num_layer = num_layer\n",
    "\n",
    "        self.lstm = nn.LSTM(input_dim, hidden_dim, num_layers=num_layer, batch_first=True)\n",
    "        self.fc = nn.Linear(hidden_dim, output_dim)\n",
    "    \n",
    "    def forward(self, x, device):\n",
    "        h0 = torch.zeros((self.num_layer, x.shape[0], self.hidden_dim)).to(device)\n",
    "        c0 = torch.zeros((self.num_layer, x.shape[0], self.hidden_dim)).to(device)\n",
    "        x, (hn, cn) = self.lstm(x, (h0, c0))\n",
    "        # x: [Batch_size, Sequence_length, Num_feature] -> [Batch_size, Time_step, Hidden_dim]\n",
    "        x = x[:, -1:].flatten(1)\n",
    "        # 마지막 time step만 추출해 사용\n",
    "        x = self.fc(x)\n",
    "        return x"
   ]
  },
  {
   "cell_type": "code",
   "execution_count": 7,
   "metadata": {},
   "outputs": [],
   "source": [
    "model = Model(28, 64, 10, 3).to(config[\"device\"])\n",
    "criterion = nn.CrossEntropyLoss()\n",
    "optimizer = optim.Adam(model.parameters(), config[\"lr\"])"
   ]
  },
  {
   "cell_type": "code",
   "execution_count": 8,
   "metadata": {},
   "outputs": [
    {
     "name": "stdout",
     "output_type": "stream",
     "text": [
      "epoch: 10/30\n",
      "acc   train: 0.984, valid: 0.983\n",
      "loss  train: 0.054, valid: 0.060\n",
      "epoch: 20/30\n",
      "acc   train: 0.993, valid: 0.985\n",
      "loss  train: 0.022, valid: 0.054\n",
      "epoch: 30/30\n",
      "acc   train: 0.995, valid: 0.986\n",
      "loss  train: 0.016, valid: 0.047\n"
     ]
    }
   ],
   "source": [
    "total_train = {\n",
    "    \"loss\": [],\n",
    "    \"acc\": [],\n",
    "}\n",
    "total_valid = {\n",
    "    \"loss\": [],\n",
    "    \"acc\": [],\n",
    "}\n",
    "for i in range(1, config[\"epoch\"] + 1):\n",
    "    model.train()\n",
    "    train_acc = []\n",
    "    train_loss = []\n",
    "    for image, label in train_data:\n",
    "        image, label = image.to(config[\"device\"]), label.to(config[\"device\"])\n",
    "        pred = model(image.squeeze(1), config[\"device\"])\n",
    "        loss = criterion(pred, label)\n",
    "\n",
    "        optimizer.zero_grad()\n",
    "        loss.backward()\n",
    "        optimizer.step()\n",
    "\n",
    "        train_loss.append(loss.item())\n",
    "        train_acc.append((pred.max(1)[1] == label).float().mean().item())\n",
    "\n",
    "    with torch.no_grad():\n",
    "        model.eval()\n",
    "        valid_acc = []\n",
    "        valid_loss = []\n",
    "        for image, label in valid_data:\n",
    "            image, label = image.to(config[\"device\"]), label.to(config[\"device\"])\n",
    "\n",
    "            pred = model(image.squeeze(1), config[\"device\"])\n",
    "            loss = criterion(pred, label)\n",
    "            \n",
    "            valid_loss.append(loss.item())\n",
    "            valid_acc.append((pred.max(1)[1] == label).float().mean().item())\n",
    "    \n",
    "    total_train[\"loss\"].append(np.mean(train_loss))\n",
    "    total_train[\"acc\"].append(np.mean(train_acc))\n",
    "    total_valid[\"loss\"].append(np.mean(valid_loss))\n",
    "    total_valid[\"acc\"].append(np.mean(valid_acc))\n",
    "    \n",
    "    if i % 10 == 0:\n",
    "        print(f\"epoch: {i}/{config['epoch']}\")\n",
    "        print(f\"acc\".ljust(5), f\"train: {np.mean(train_acc):.3f}, valid: {np.mean(valid_acc):.3f}\")\n",
    "        print(f\"loss\".ljust(5), f\"train: {np.mean(train_loss):.3f}, valid: {np.mean(valid_loss):.3f}\")"
   ]
  },
  {
   "cell_type": "code",
   "execution_count": 9,
   "metadata": {},
   "outputs": [
    {
     "data": {
      "image/png": "[encoded data removed]",
      "text/plain": [
       "<Figure size 640x480 with 2 Axes>"
      ]
     },
     "metadata": {},
     "output_type": "display_data"
    }
   ],
   "source": [
    "fig, ax = plt.subplots(2, 1)\n",
    "ax[0].plot(np.arange(config[\"epoch\"]), total_train[\"loss\"], label=\"train\")\n",
    "ax[0].plot(np.arange(config[\"epoch\"]), total_valid[\"loss\"], label=\"valid\")\n",
    "ax[0].legend()\n",
    "ax[1].plot(np.arange(config[\"epoch\"]), total_train[\"acc\"], label=\"train\")\n",
    "ax[1].plot(np.arange(config[\"epoch\"]), total_valid[\"acc\"], label=\"valid\")\n",
    "ax[1].legend()\n",
    "plt.show()"
   ]
  }
 ],
 "metadata": {
  "kernelspec": {
   "display_name": "torch",
   "language": "python",
   "name": "python3"
  },
  "language_info": {
   "codemirror_mode": {
    "name": "ipython",
    "version": 3
   },
   "file_extension": ".py",
   "mimetype": "text/x-python",
   "name": "python",
   "nbconvert_exporter": "python",
   "pygments_lexer": "ipython3",
   "version": "3.10.9"
  },
  "orig_nbformat": 4
 },
 "nbformat": 4,
 "nbformat_minor": 2
}
