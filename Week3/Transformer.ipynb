{
 "cells": [
  {
   "cell_type": "code",
   "execution_count": 70,
   "metadata": {},
   "outputs": [],
   "source": [
    "import torch\n",
    "import numpy as np\n",
    "import torch.nn as nn\n",
    "import torch.nn.functional as F\n",
    "import torch.optim as optim\n",
    "import albumentations\n",
    "import matplotlib.pyplot as plt\n",
    "from matplotlib.colors import ListedColormap\n",
    "from albumentations.pytorch import ToTensorV2\n",
    "from torch.utils.data import DataLoader, Dataset\n",
    "from torchvision import datasets\n",
    "import einops\n",
    "from einops.layers.torch import Rearrange, Reduce"
   ]
  },
  {
   "cell_type": "code",
   "execution_count": 71,
   "metadata": {},
   "outputs": [],
   "source": [
    "config = {\n",
    "    \"epoch\": 30,\n",
    "    \"batch_size\": 512,\n",
    "    \"lr\": 1e-3,\n",
    "    \"device\": \"cuda\" if torch.cuda.is_available() else \"mps\" if torch.backends.mps.is_available() else \"cpu\"\n",
    "}"
   ]
  },
  {
   "cell_type": "code",
   "execution_count": 72,
   "metadata": {},
   "outputs": [],
   "source": [
    "class MNIST(datasets.MNIST):\n",
    "    def __init__(self, root: str, train: bool = True, transform = None, download: bool = False) -> None:\n",
    "        super().__init__(root=root, train=train, transform=transform, download=download)\n",
    "    \n",
    "    def __getitem__(self, index: int):\n",
    "        image, label = self.data[index], self.targets[index]\n",
    "        \n",
    "        if self.transform is not None:\n",
    "            transform = self.transform(image=image.unsqueeze(2).numpy())\n",
    "            image = transform[\"image\"]\n",
    "            \n",
    "        return image, label"
   ]
  },
  {
   "cell_type": "code",
   "execution_count": 73,
   "metadata": {},
   "outputs": [],
   "source": [
    "transform = albumentations.Compose([\n",
    "    albumentations.Normalize(mean=0, std=1),\n",
    "    albumentations.Blur(blur_limit=4),\n",
    "    ToTensorV2()\n",
    "])"
   ]
  },
  {
   "cell_type": "code",
   "execution_count": 74,
   "metadata": {},
   "outputs": [],
   "source": [
    "mnist_train = MNIST(root='/Users/jemin/Library/CloudStorage/GoogleDrive-jemin7709@gmail.com/내 드라이브/BoostCamp_Data/data', train=True, transform=transform, download=True)\n",
    "mnist_valid = MNIST(root='/Users/jemin/Library/CloudStorage/GoogleDrive-jemin7709@gmail.com/내 드라이브/BoostCamp_Data/data', train=False, transform=transform, download=True)\n",
    "train_data = DataLoader(mnist_train, config[\"batch_size\"], shuffle=True)\n",
    "valid_data = DataLoader(mnist_valid, config[\"batch_size\"])"
   ]
  },
  {
   "cell_type": "code",
   "execution_count": 75,
   "metadata": {},
   "outputs": [
    {
     "name": "stdout",
     "output_type": "stream",
     "text": [
      "torch.Size([1, 28, 28])\n"
     ]
    }
   ],
   "source": [
    "print(mnist_train[0][0].shape)"
   ]
  },
  {
   "cell_type": "code",
   "execution_count": 76,
   "metadata": {},
   "outputs": [],
   "source": [
    "class PositionEmbedding(nn.Module):\n",
    "    def __init__(self, in_channels, img_size, patch_size, emb_dim) -> None:\n",
    "        super().__init__()\n",
    "        self.rerange = Rearrange(\"b c (w p1) (h p2) -> b (w h) (p1 p2 c)\", p1=patch_size, p2=patch_size)\n",
    "        self.linear = nn.Linear(in_channels * patch_size ** 2, emb_dim)\n",
    "\n",
    "        self.token = nn.Parameter(torch.randn((1, 1, emb_dim)))\n",
    "\n",
    "        num_patches = img_size ** 2 // patch_size ** 2\n",
    "        self.position = nn.Parameter(torch.randn((num_patches + 1, emb_dim)))\n",
    "    \n",
    "    def forward(self, x):\n",
    "        b, _, _, _ = x.shape\n",
    "\n",
    "        x = self.rerange(x)\n",
    "        x = self.linear(x)\n",
    "\n",
    "        c = einops.repeat(self.token, \"() n d -> b n d\", b=b)\n",
    "        x = torch.cat([c, x], dim=1)\n",
    "        x = x + self.position\n",
    "\n",
    "        return x"
   ]
  },
  {
   "cell_type": "code",
   "execution_count": 77,
   "metadata": {},
   "outputs": [
    {
     "name": "stdout",
     "output_type": "stream",
     "text": [
      "torch.Size([2, 3, 4, 5]) torch.Size([2, 3, 4, 5])\n",
      "torch.Size([2, 3, 4, 4])\n"
     ]
    }
   ],
   "source": [
    "x = torch.zeros((2, 2, 3, 4, 5))\n",
    "x1 = x[0]\n",
    "x2 = x[1]\n",
    "print(x1.shape, x2.shape)\n",
    "print(torch.matmul(x1, x2.transpose(-2, -1)).shape)"
   ]
  },
  {
   "cell_type": "code",
   "execution_count": 78,
   "metadata": {},
   "outputs": [],
   "source": [
    "class MultiHeadAttention(nn.Module):\n",
    "    def __init__(self, emb_dim, num_heads) -> None:\n",
    "        super().__init__()\n",
    "        self.emb_dim = emb_dim\n",
    "        self.num_heads = num_heads\n",
    "\n",
    "        self.qkv = nn.Linear(emb_dim, emb_dim * 3)\n",
    "        self.attention_dropout = nn.Dropout()\n",
    "        self.linear = nn.Linear(emb_dim, emb_dim)\n",
    "    \n",
    "    def forward(self, x):\n",
    "        qkv = einops.rearrange(self.qkv(x), \"b n (h d qkv) -> (qkv) b h n d\", h=self.num_heads, qkv=3)\n",
    "        Q = qkv[0]\n",
    "        K = qkv[1]\n",
    "        V = qkv[2]\n",
    "\n",
    "        weight = torch.matmul(Q, K.transpose(-2, -1)) # b h n d -> b h n n\n",
    "        scaling = self.emb_dim ** (1/2)\n",
    "        A = F.softmax(weight / scaling, dim=-1)\n",
    "        A = self.attention_dropout(A)\n",
    "        SA = torch.matmul(A, V) # b h n n -> b h n d\n",
    "        \n",
    "        out = einops.rearrange(SA, \"b h n d -> b n (h d)\") # flatten\n",
    "        out = self.linear(out)\n",
    "        return out, A\n"
   ]
  },
  {
   "cell_type": "code",
   "execution_count": 79,
   "metadata": {},
   "outputs": [],
   "source": [
    "class MLPBlock(nn.Module):\n",
    "    def __init__(self, emb_dim, forward_dim) -> None:\n",
    "        super().__init__()\n",
    "        self.block = nn.Sequential(\n",
    "            nn.Linear(emb_dim, forward_dim * emb_dim),\n",
    "            nn.GELU(),\n",
    "            nn.Dropout(),\n",
    "            nn.Linear(forward_dim * emb_dim, emb_dim)\n",
    "        )\n",
    "    \n",
    "    def forward(self, x):\n",
    "        x = self.block(x)\n",
    "        return x "
   ]
  },
  {
   "cell_type": "code",
   "execution_count": 80,
   "metadata": {},
   "outputs": [],
   "source": [
    "class Encoder(nn.Module):\n",
    "    def __init__(self, emb_dim, num_heads, forward_dim) -> None:\n",
    "        super().__init__()\n",
    "        self.norm1 = nn.LayerNorm(emb_dim)\n",
    "        self.mha = MultiHeadAttention(emb_dim, num_heads)\n",
    "\n",
    "        self.norm2 = nn.LayerNorm(emb_dim)\n",
    "        self.mlp = MLPBlock(emb_dim, forward_dim)\n",
    "\n",
    "        self.dropout = nn.Dropout()\n",
    "    \n",
    "    def forward(self, x):\n",
    "        out = self.norm1(x)\n",
    "        out, attention = self.mha(out)\n",
    "        x = x + self.dropout(out)\n",
    "\n",
    "        out = self.norm2(x)\n",
    "        out = self.mlp(out)\n",
    "        x = x + self.dropout(out)\n",
    "\n",
    "        return out, attention"
   ]
  },
  {
   "cell_type": "code",
   "execution_count": 81,
   "metadata": {},
   "outputs": [],
   "source": [
    "class VIT(nn.Module):\n",
    "    def __init__(self, in_channel, img_size, patch_size, emb_dim, n_layer, num_heads, forward_dim, num_classes) -> None:\n",
    "        super().__init__()\n",
    "        self.img_emb = PositionEmbedding(in_channel, img_size, patch_size, emb_dim)\n",
    "        self.encoder = nn.ModuleList([Encoder(emb_dim, num_heads, forward_dim)] * n_layer)\n",
    "        self.reduce = Reduce(\"b n e -> b e\", reduction=\"mean\")\n",
    "        self.norm = nn.LayerNorm(emb_dim)\n",
    "        self.fc = nn.Linear(emb_dim, num_classes)\n",
    "    \n",
    "    def forward(self, x):\n",
    "        x = self.img_emb(x)\n",
    "        attentions = []\n",
    "        for encoder in self.encoder:\n",
    "            x, attention = encoder(x)\n",
    "            attentions.append(attention)\n",
    "        x = self.reduce(x)\n",
    "        x = self.norm(x)\n",
    "        x = self.fc(x)\n",
    "        return x, attentions"
   ]
  },
  {
   "cell_type": "code",
   "execution_count": 82,
   "metadata": {},
   "outputs": [],
   "source": [
    "model = VIT(1, 28, 4, 4*4, 3, 2, 4, 10).to(config[\"device\"])\n",
    "criterion = nn.CrossEntropyLoss()\n",
    "optimizer = optim.Adam(model.parameters(), config[\"lr\"])"
   ]
  },
  {
   "cell_type": "code",
   "execution_count": 83,
   "metadata": {},
   "outputs": [
    {
     "name": "stdout",
     "output_type": "stream",
     "text": [
      "epoch: 10/30\n",
      "acc   train: 0.644, valid: 0.742\n",
      "loss  train: 1.031, valid: 0.822\n",
      "epoch: 20/30\n",
      "acc   train: 0.788, valid: 0.831\n",
      "loss  train: 0.656, valid: 0.534\n",
      "epoch: 30/30\n",
      "acc   train: 0.832, valid: 0.867\n",
      "loss  train: 0.527, valid: 0.426\n"
     ]
    }
   ],
   "source": [
    "total_train = {\n",
    "    \"loss\": [],\n",
    "    \"acc\": [],\n",
    "}\n",
    "total_valid = {\n",
    "    \"loss\": [],\n",
    "    \"acc\": [],\n",
    "}\n",
    "for i in range(1, config[\"epoch\"] + 1):\n",
    "    model.train()\n",
    "    train_acc = []\n",
    "    train_loss = []\n",
    "    for image, label in train_data:\n",
    "        image, label = image.to(config[\"device\"]), label.to(config[\"device\"])\n",
    "        pred, attentions = model(image)\n",
    "        loss = criterion(pred, label)\n",
    "\n",
    "        optimizer.zero_grad()\n",
    "        loss.backward()\n",
    "        optimizer.step()\n",
    "\n",
    "        train_loss.append(loss.item())\n",
    "        train_acc.append((pred.max(1)[1] == label).float().mean().item())\n",
    "\n",
    "    with torch.no_grad():\n",
    "        model.eval()\n",
    "        valid_acc = []\n",
    "        valid_loss = []\n",
    "        for image, label in valid_data:\n",
    "            image, label = image.to(config[\"device\"]), label.to(config[\"device\"])\n",
    "\n",
    "            pred, attentions = model(image)\n",
    "            loss = criterion(pred, label)\n",
    "            \n",
    "            valid_loss.append(loss.item())\n",
    "            valid_acc.append((pred.max(1)[1] == label).float().mean().item())\n",
    "    \n",
    "    total_train[\"loss\"].append(np.mean(train_loss))\n",
    "    total_train[\"acc\"].append(np.mean(train_acc))\n",
    "    total_valid[\"loss\"].append(np.mean(valid_loss))\n",
    "    total_valid[\"acc\"].append(np.mean(valid_acc))\n",
    "    \n",
    "    if i % 10 == 0:\n",
    "        print(f\"epoch: {i}/{config['epoch']}\")\n",
    "        print(f\"acc\".ljust(5), f\"train: {np.mean(train_acc):.3f}, valid: {np.mean(valid_acc):.3f}\")\n",
    "        print(f\"loss\".ljust(5), f\"train: {np.mean(train_loss):.3f}, valid: {np.mean(valid_loss):.3f}\")"
   ]
  },
  {
   "cell_type": "code",
   "execution_count": 95,
   "metadata": {},
   "outputs": [
    {
     "data": {
      "image/png": "[encoded data removed]",
      "text/plain": [
       "<Figure size 640x480 with 2 Axes>"
      ]
     },
     "metadata": {},
     "output_type": "display_data"
    }
   ],
   "source": [
    "fig, ax = plt.subplots(2, 1)\n",
    "ax[0].set_title(\"loss\")\n",
    "ax[0].plot(np.arange(config[\"epoch\"]), total_train[\"loss\"], label=\"train\")\n",
    "ax[0].plot(np.arange(config[\"epoch\"]), total_valid[\"loss\"], label=\"valid\")\n",
    "ax[0].legend()\n",
    "ax[1].set_title(\"acc\")\n",
    "ax[1].plot(np.arange(config[\"epoch\"]), total_train[\"acc\"], label=\"train\")\n",
    "ax[1].plot(np.arange(config[\"epoch\"]), total_valid[\"acc\"], label=\"valid\")\n",
    "ax[1].legend()\n",
    "plt.subplots_adjust(hspace=0.5)\n",
    "plt.show()"
   ]
  },
  {
   "cell_type": "code",
   "execution_count": null,
   "metadata": {},
   "outputs": [],
   "source": []
  }
 ],
 "metadata": {
  "kernelspec": {
   "display_name": "torch",
   "language": "python",
   "name": "python3"
  },
  "language_info": {
   "codemirror_mode": {
    "name": "ipython",
    "version": 3
   },
   "file_extension": ".py",
   "mimetype": "text/x-python",
   "name": "python",
   "nbconvert_exporter": "python",
   "pygments_lexer": "ipython3",
   "version": "3.10.9"
  },
  "orig_nbformat": 4
 },
 "nbformat": 4,
 "nbformat_minor": 2
}
