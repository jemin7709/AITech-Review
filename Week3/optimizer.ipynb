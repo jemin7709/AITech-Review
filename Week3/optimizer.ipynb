{
 "cells": [
  {
   "cell_type": "code",
   "execution_count": null,
   "metadata": {},
   "outputs": [],
   "source": [
    "import torch\n",
    "import torch.nn as nn\n",
    "import torch.optim as optim\n",
    "import matplotlib.pyplot as plt\n",
    "from matplotlib.ticker import MultipleLocator\n",
    "import numpy as np\n",
    "import imageio\n",
    "import natsort\n",
    "import os\n",
    "from tqdm import tqdm\n",
    "from IPython import display"
   ]
  },
  {
   "cell_type": "code",
   "execution_count": null,
   "metadata": {},
   "outputs": [],
   "source": [
    "config = {\n",
    "    \"lr\": 1e-3,\n",
    "    \"epoch\": 1000,\n",
    "    \"size\": 100\n",
    "}"
   ]
  },
  {
   "cell_type": "code",
   "execution_count": null,
   "metadata": {},
   "outputs": [],
   "source": [
    "model = nn.Linear(3, config[\"size\"])\n",
    "criterion = nn.L1Loss()\n",
    "optimizer = optim.Adam(model.parameters(), config[\"lr\"])"
   ]
  },
  {
   "cell_type": "code",
   "execution_count": null,
   "metadata": {},
   "outputs": [],
   "source": [
    "def train(config, model, criterion, optimizer, data, label):\n",
    "    total_loss = []\n",
    "    total_output = []\n",
    "    \n",
    "    for i in tqdm(range(1, config[\"epoch\"] + 1)):\n",
    "        pred = model(data)\n",
    "        loss = criterion(pred, label)\n",
    "\n",
    "        optimizer.zero_grad()\n",
    "        loss.backward()\n",
    "        optimizer.step()\n",
    "\n",
    "        if i % 50 == 0:\n",
    "            total_loss.append(loss.item())\n",
    "            total_output.append(pred.clone().detach())\n",
    "    return total_loss, total_output"
   ]
  },
  {
   "cell_type": "code",
   "execution_count": null,
   "metadata": {},
   "outputs": [],
   "source": [
    "data = torch.randn(3)\n",
    "label = torch.FloatTensor(np.sin(np.linspace(0, 2 * np.pi, num=config[\"size\"])))\n",
    "total_loss, total_output = train(config, model, criterion, optimizer, data, label)\n",
    "\n",
    "for i, output in enumerate(total_output, 1):\n",
    "    fig, ax = plt.subplots(1, 2, figsize=(15, 5))\n",
    "    fig.suptitle(f\"epoch: {i * 50}\")\n",
    "\n",
    "    ax[0].plot(np.arange(1, config[\"epoch\"] + 1, 50), total_loss)\n",
    "    ax[0].xaxis.set_major_locator(MultipleLocator(100))\n",
    "    ax[0].set_title(\"L1 Loss\")\n",
    "\n",
    "    ax[1].bar(np.arange(config[\"size\"]), output)\n",
    "    ax[1].plot(label, c=\"tomato\")\n",
    "    ax[1].set_ylim(-1.3, 1.3)\n",
    "    ax[1].set_title(\"Output\")\n",
    "\n",
    "    # plt.show()\n",
    "    plt.savefig(f\"./SGD/output{i}\")\n",
    "    display.clear_output(wait=True)"
   ]
  },
  {
   "cell_type": "code",
   "execution_count": null,
   "metadata": {},
   "outputs": [],
   "source": [
    "with imageio.get_writer('Adam.gif', mode='I') as writer:\n",
    "    for filename in natsort.natsorted(os.listdir(\"./optimizer_output\")):\n",
    "        image = imageio.imread(\"./SGD/\" + filename)\n",
    "        writer.append_data(image)\n",
    "\n",
    "for filename in natsort.natsorted(os.listdir(\"./SGD\")):\n",
    "        os.remove(\"./SGD/\" + filename)"
   ]
  }
 ],
 "metadata": {
  "kernelspec": {
   "display_name": "torch",
   "language": "python",
   "name": "python3"
  },
  "language_info": {
   "codemirror_mode": {
    "name": "ipython",
    "version": 3
   },
   "file_extension": ".py",
   "mimetype": "text/x-python",
   "name": "python",
   "nbconvert_exporter": "python",
   "pygments_lexer": "ipython3",
   "version": "3.10.9"
  },
  "orig_nbformat": 4
 },
 "nbformat": 4,
 "nbformat_minor": 2
}
